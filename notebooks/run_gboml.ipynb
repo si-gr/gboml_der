{
 "cells": [
  {
   "cell_type": "code",
   "execution_count": null,
   "metadata": {},
   "outputs": [],
   "source": [
    "import os\n",
    "import sys\n",
    "sys.path.append(\"../src/\")\n",
    "import analysis"
   ]
  },
  {
   "cell_type": "code",
   "execution_count": null,
   "metadata": {},
   "outputs": [],
   "source": [
    "num_households = 100\n",
    "filepath = 'results'"
   ]
  },
  {
   "cell_type": "code",
   "execution_count": null,
   "metadata": {},
   "outputs": [],
   "source": [
    "gbmodel = analysis.GbomlModel()\n",
    "# create configs for all scenarios in \"models/scenarios_new/\" folder for a given number of households\n",
    "config = gbmodel.create_config(num_households=num_households)\n",
    "\n",
    "#_, solution_dict = analysis.run_model(\"../models/scenarios_new/model_chp.txt\", num_households=100)\n",
    "# run scenarios\n",
    "obj_result, nodes_result, solution_dict = gbmodel.get_results_new(config)\n",
    "\n",
    "if not os.path.exists(filepath):\n",
    "    os.makedirs(filepath)\n",
    "\n",
    "obj_result_path = os.path.join(filepath, f\"objective_result_{num_households}.csv\")\n",
    "nodes_result_path = os.path.join(filepath, f\"nodes_result_{num_households}.csv\")\n",
    "ts_load_result_path = os.path.join(filepath, f\"ts_load_result_{num_households}.csv\")\n",
    "ts_gen_result_path = os.path.join(filepath, f\"ts_gen_result_{num_households}.csv\")\n",
    "#os.remove(obj_result_path)\n",
    "#os.remove(nodes_result_path)\n",
    "#os.remove(ts_load_result_path)\n",
    "#os.remove(ts_gen_result_path)\n",
    "obj_result.to_csv(obj_result_path)\n",
    "nodes_result.to_csv(nodes_result_path)\n",
    "ts_load_file = open(ts_load_result_path, 'w')\n",
    "print(solution_dict[\"solution\"])\n",
    "ts_load_file.write(','.join(map(str, solution_dict[\"solution\"][\"elements\"][\"DISTRIBUTION_EL\"][\"variables\"][\"electricity_import\"][\"values\"])))\n",
    "ts_load_file.close()\n",
    "ts_gen_file = open(ts_gen_result_path, 'w')\n",
    "ts_gen_file.write(','.join(map(str, solution_dict[\"solution\"][\"elements\"][\"DISTRIBUTION_EL\"][\"variables\"][\"electricity_export\"][\"values\"])))\n",
    "ts_gen_file.close()"
   ]
  }
 ],
 "metadata": {
  "kernelspec": {
   "display_name": ".venv",
   "language": "python",
   "name": "python3"
  },
  "language_info": {
   "codemirror_mode": {
    "name": "ipython",
    "version": 3
   },
   "file_extension": ".py",
   "mimetype": "text/x-python",
   "name": "python",
   "nbconvert_exporter": "python",
   "pygments_lexer": "ipython3",
   "version": "3.11.0"
  }
 },
 "nbformat": 4,
 "nbformat_minor": 2
}
